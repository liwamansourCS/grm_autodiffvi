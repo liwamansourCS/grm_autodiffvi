{
 "cells": [
  {
   "cell_type": "code",
   "execution_count": 17,
   "metadata": {},
   "outputs": [],
   "source": [
    "import pyreadstat\n",
    "from cmdstanpy.model import CmdStanModel\n",
    "from sklearn.model_selection import train_test_split"
   ]
  },
  {
   "cell_type": "code",
   "execution_count": 18,
   "metadata": {},
   "outputs": [],
   "source": [
    "df = pd.read_csv(\"data.csv\", index_col=\"Unnamed: 0\")\n",
    "\n",
    "X_train = df.drop(columns=[\"y\"]).values.astype(float)\n",
    "y_train = df[\"y\"].values.astype(int)\n",
    "\n",
    "# X_train, X_val, y_train, y_val = train_test_split(X, y, train_size=int(1e4), shuffle=True, stratify=y)\n",
    "\n",
    "age = X_train[:, 3].astype(int)\n",
    "age_edu = X_train[:, 5].astype(int)\n",
    "black = X_train[:, 0].astype(int)\n",
    "edu = X_train[:, 4].astype(int)\n",
    "female = X_train[:, 1].astype(int)\n",
    "region_full = X_train[:, 7].astype(int)\n",
    "state = X_train[:, 6].astype(int)\n",
    "v_prev_full = X_train[:, 2].astype(float)"
   ]
  },
  {
   "cell_type": "code",
   "execution_count": 19,
   "metadata": {},
   "outputs": [],
   "source": [
    "data = {\n",
    "    \"N\": len(y_train),\n",
    "    \"n_age\": 4,\n",
    "    \"n_age_edu\": 16,\n",
    "    \"n_edu\": 4,\n",
    "    \"n_region_full\": 5,\n",
    "    \"n_state\": 51,\n",
    "    \"age\": age,\n",
    "    \"age_edu\": age_edu,\n",
    "    \"black\": black,\n",
    "    \"edu\": edu,\n",
    "    \"female\": female,\n",
    "    \"region_full\": region_full,\n",
    "    \"state\": state,\n",
    "    \"v_prev_full\": v_prev_full,\n",
    "    \"y\": y_train,\n",
    "}"
   ]
  },
  {
   "cell_type": "code",
   "execution_count": 20,
   "metadata": {},
   "outputs": [
    {
     "name": "stderr",
     "output_type": "stream",
     "text": [
      "16:56:00 - cmdstanpy - INFO - Chain [1] start processing\n",
      "17:02:36 - cmdstanpy - INFO - Chain [1] done processing\n",
      "17:02:36 - cmdstanpy - WARNING - The algorithm may not have converged.\n",
      "Proceeding because require_converged is set to False\n"
     ]
    }
   ],
   "source": [
    "# instantiate, compile bernoulli model\n",
    "model = CmdStanModel(stan_file=\"multilevel.stan\")\n",
    "# run CmdStan's variational inference method, returns object `CmdStanVB`\n",
    "vi = model.variational(data=data, iter=int(1e6), algorithm=\"meanfield\", grad_samples=1, require_converged=False, show_console=False, tol_rel_obj=1e-4)"
   ]
  },
  {
   "cell_type": "code",
   "execution_count": 21,
   "metadata": {},
   "outputs": [
    {
     "name": "stdout",
     "output_type": "stream",
     "text": [
      "beta[1]: -3.41297\n",
      "beta[2]: -1.6683\n",
      "beta[3]: -0.0898054\n",
      "beta[4]: 6.90125\n",
      "beta[5]: -0.199001\n",
      "sigma_a: 0.100038\n",
      "sigma_b: 0.154194\n",
      "sigma_c: 0.152685\n",
      "sigma_d: 0.272737\n",
      "sigma_e: 0.23287\n"
     ]
    }
   ],
   "source": [
    "for key, value in vi.variational_params_dict.items():\n",
    "    if (\"beta\" in key) or (\"sigma\" in key):\n",
    "        print(f\"{key}: {value}\")"
   ]
  }
 ],
 "metadata": {
  "kernelspec": {
   "display_name": "base",
   "language": "python",
   "name": "python3"
  },
  "language_info": {
   "codemirror_mode": {
    "name": "ipython",
    "version": 3
   },
   "file_extension": ".py",
   "mimetype": "text/x-python",
   "name": "python",
   "nbconvert_exporter": "python",
   "pygments_lexer": "ipython3",
   "version": "3.9.13"
  },
  "orig_nbformat": 4,
  "vscode": {
   "interpreter": {
    "hash": "4b8cd7328624c2876d0f45bb904e727121fd1a9f3939b362ab0549dabb1f400e"
   }
  }
 },
 "nbformat": 4,
 "nbformat_minor": 2
}
